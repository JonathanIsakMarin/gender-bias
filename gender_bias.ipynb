{
 "cells": [
  {
   "cell_type": "markdown",
   "metadata": {},
   "source": [
    "## Import packages"
   ]
  },
  {
   "cell_type": "code",
   "execution_count": 8,
   "metadata": {
    "collapsed": true
   },
   "outputs": [],
   "source": [
    "#Import packages:\n",
    "import re\n",
    "from bs4 import BeautifulSoup\n",
    "import requests\n",
    "import numpy as np\n",
    "import warnings\n",
    "warnings.filterwarnings('ignore')\n",
    "import pandas as pd\n",
    "from IPython.core.display import Image "
   ]
  },
  {
   "cell_type": "markdown",
   "metadata": {},
   "source": [
    "## Import wordlists from .py file"
   ]
  },
  {
   "cell_type": "code",
   "execution_count": 1,
   "metadata": {
    "collapsed": true
   },
   "outputs": [],
   "source": [
    "#Import wordlists\n",
    "from genderwords_lists import *  \n",
    "#Wordlists are kept hidden. But you may import any lists of words serving your purpose."
   ]
  },
  {
   "cell_type": "markdown",
   "metadata": {},
   "source": [
    "## Define functions to gather job data from JobIndex"
   ]
  },
  {
   "cell_type": "markdown",
   "metadata": {},
   "source": [
    "### Ratelimit function"
   ]
  },
  {
   "cell_type": "code",
   "execution_count": 5,
   "metadata": {},
   "outputs": [
    {
     "data": {
      "text/plain": [
       "{'User-Agent': 'python-requests/2.11.1', 'Accept-Encoding': 'gzip, deflate', 'Accept': '*/*', 'Connection': 'keep-alive', 'email': 'youremail', 'name': 'name'}"
      ]
     },
     "execution_count": 5,
     "metadata": {},
     "output_type": "execute_result"
    }
   ],
   "source": [
    "#Control the pace of calls to servers\n",
    "import time\n",
    "def ratelimit():\n",
    "    \"A function that handles the rate of calls.\"\n",
    "    time.sleep(1) #change to design more clever schemes for handling the rate of calls.\n",
    "    \n",
    "#Reliable requests\n",
    "def request(url,iterations=10,exceptions=(Exception)):\n",
    "    for iteration in range(iterations):\n",
    "        try:\n",
    "            #add ratelimit function call here\n",
    "            ratelimit() #!!\n",
    "            response = session.get(url)\n",
    "            return response #if succesful it will end the iterations here\n",
    "        except exceptions as e: #find exceptions in the request library requests.exceptions\n",
    "            print(e) #print or log the exception message.\n",
    "    return None \n",
    "\n",
    "# Transparent scraping:\n",
    "session = requests.session()\n",
    "session.headers['email'] = 'youremail' \n",
    "session.headers['name'] = 'name'\n",
    "session.headers"
   ]
  },
  {
   "cell_type": "markdown",
   "metadata": {},
   "source": [
    "### Functions to extract links, names and sub-links of jobs"
   ]
  },
  {
   "cell_type": "code",
   "execution_count": 6,
   "metadata": {
    "collapsed": true,
    "scrolled": true
   },
   "outputs": [],
   "source": [
    "#Request text data from jobindex\n",
    "def request_main_links(url_main):\n",
    "    # Function to get links to jobs\n",
    "    url=str(url_main)\n",
    "    response = request(url)\n",
    "    soup = BeautifulSoup(response.text, 'lxml')\n",
    "    \n",
    "    #Extract underlinks \n",
    "    links_main = []\n",
    "    \n",
    "    for div in soup.findAll('div', {'class': 'PaidJob'}):\n",
    "        a = div.findAll('a')[1]\n",
    "        links_main.append(a.attrs['href']) \n",
    "        \n",
    "    return(links_main)"
   ]
  },
  {
   "cell_type": "code",
   "execution_count": 7,
   "metadata": {
    "collapsed": true
   },
   "outputs": [],
   "source": [
    "#Request text data from jobindex\n",
    "def request_job_names(url_main):\n",
    "    # Request main information from the given links (main pages)\n",
    "    url=str(url_main)\n",
    "    response = request(url)\n",
    "    soup = BeautifulSoup(response.text, 'lxml')\n",
    "\n",
    "    # Extract job names\n",
    "    links_main_name = []\n",
    "    \n",
    "    for div in soup.findAll('div', {'class': 'PaidJob'}):\n",
    "        if div is not None:\n",
    "            b = div.find('b')\n",
    "            links_main_name.append(b)\n",
    "        \n",
    "    return(links_main_name)"
   ]
  },
  {
   "cell_type": "code",
   "execution_count": 8,
   "metadata": {
    "collapsed": true
   },
   "outputs": [],
   "source": [
    "#Request name of companies\n",
    "def request_company_names(url_main):\n",
    "    # Request main information from the given links (main pages)\n",
    "    url=str(url_main)\n",
    "    response = request(url)\n",
    "    soup = BeautifulSoup(response.text, 'lxml')\n",
    "    \n",
    "    # Get sub-links to each job from main pages\n",
    "    job_containers = soup.find_all('div', class_ = 'PaidJob')\n",
    "    links_company_name = []\n",
    "\n",
    "    # Extract compnay names\n",
    "    for i in job_containers:\n",
    "        links_company_name.append(i.img[\"alt\"])\n",
    "    return(links_company_name)"
   ]
  },
  {
   "cell_type": "markdown",
   "metadata": {},
   "source": [
    "### Functions to extract job texts and clean them"
   ]
  },
  {
   "cell_type": "code",
   "execution_count": 9,
   "metadata": {
    "collapsed": true
   },
   "outputs": [],
   "source": [
    "#Define function to clean html text.\n",
    "def remove_html_tags(text):\n",
    "    import re\n",
    "    # Removes any HTML-tags \n",
    "    clean = re.compile('<.*?>')\n",
    "    return re.sub(clean, '', text)"
   ]
  },
  {
   "cell_type": "code",
   "execution_count": 10,
   "metadata": {
    "collapsed": true
   },
   "outputs": [],
   "source": [
    "def extract_job_text(jobopslag):\n",
    "    # Request information from the given link\n",
    "    url= str(jobopslag)\n",
    "    response = requests.get(url)\n",
    "    soup = BeautifulSoup(response.text, \"lxml\")\n",
    "   \n",
    "    # Extract text from underlinks (they are extracted in html format)\n",
    "    text_job = soup.findAll('div', {'id': 'AdvertisementInnerContent'})\n",
    "    text = str(text_job)\n",
    "    \n",
    "    # Use cleaner function to remove all HTML-tags in the texts\n",
    "    tree = BeautifulSoup(text)\n",
    "    good_html = tree.prettify()\n",
    "    good_html = remove_html_tags(good_html)\n",
    "    text = re.sub('[\\r\\n]', ' ', good_html)\n",
    "    \n",
    "    # Tokenizing and further cleaning text\n",
    "    text = re.sub(\"[\\\\s]\", \" \", text, 0, 0)\n",
    "    text = re.sub(\"[\\.\\t\\,\\:;\\(\\)\\.]\", \"\", text, 0, 0).split(\" \")\n",
    "    text = [ad for ad in text if ad != \"\"]\n",
    "    text = [word.lower() for word in text]\n",
    "    return(text)"
   ]
  },
  {
   "cell_type": "markdown",
   "metadata": {},
   "source": [
    "### Functions to score text"
   ]
  },
  {
   "cell_type": "code",
   "execution_count": 11,
   "metadata": {
    "collapsed": true
   },
   "outputs": [],
   "source": [
    "def extract_job_text_score_man(jobopslag):\n",
    "    text = jobopslag\n",
    "    \n",
    "    # Define empty vector for number of masculine words words\n",
    "    masculine = []\n",
    "    \n",
    "    # Define wordlist for scoring\n",
    "    masculine_coded_words = masculine_words\n",
    "    \n",
    "    # Pick a word in the job text, run it through the wordlist, search for matches, add 1 to empty vector if TRUE\n",
    "    for word in text:\n",
    "        for i in masculine_coded_words:\n",
    "            if (word==i):\n",
    "                masculine.append(word)\n",
    "    return(masculine)"
   ]
  },
  {
   "cell_type": "code",
   "execution_count": 12,
   "metadata": {
    "collapsed": true
   },
   "outputs": [],
   "source": [
    "def extract_job_text_score_woman(jobopslag):\n",
    "    text = jobopslag\n",
    "    \n",
    "    # Define empty vector for number of female words\n",
    "    feminine = []\n",
    "    \n",
    "    # Define wordlist for scoring\n",
    "    feminine_coded_words = feminine_words\n",
    "        \n",
    "    # Pick a word in the job text, run it through the wordlist, search for matches, add 1 to empty vector if TRUE\n",
    "    for word in text:\n",
    "        for i in feminine_coded_words:\n",
    "            if (word==i):\n",
    "                feminine.append(word)\n",
    "    return(feminine)"
   ]
  },
  {
   "cell_type": "code",
   "execution_count": 13,
   "metadata": {
    "collapsed": true
   },
   "outputs": [],
   "source": [
    "def extract_job_text_score_communal(jobopslag):\n",
    "    text = jobopslag\n",
    "    \n",
    "    # Define empty vector for number of pronoun words\n",
    "    pronouns = 0\n",
    "    \n",
    "    # Define wordlist for scoring\n",
    "    pronouns_words = [\"vi\",\"os\",\"vores\",\"jer\"]\n",
    "        \n",
    "    # Pick a word in the job text, run it through the wordlist, search for matches, add 1 to empty vector if TRUE\n",
    "    for word in text:\n",
    "        for i in pronouns_words:\n",
    "            if (word==i):\n",
    "                pronouns = pronouns+1\n",
    "    return(pronouns)"
   ]
  },
  {
   "cell_type": "code",
   "execution_count": 14,
   "metadata": {
    "collapsed": true
   },
   "outputs": [],
   "source": [
    "#Define function to extract text html from underlinks and score the texts:\n",
    "def extract_job_text_score_individual(jobopslag):\n",
    "    text = jobopslag\n",
    "    \n",
    "    # Define empty vector for number of communal words\n",
    "    individual = 0\n",
    "    \n",
    "    # Define wordlist for scoring\n",
    "    individual_words = [\"jeg\",\"mig\",\"du\",\"han\",\"hun\"]\n",
    "        \n",
    "    # Pick a word in the job text, run it through the wordlist, search for matches, add 1 to empty vector if TRUE\n",
    "    for word in text:\n",
    "        for i in individual_words:\n",
    "            if (word==i):\n",
    "                individual = individual+1\n",
    "    return(individual)"
   ]
  },
  {
   "cell_type": "code",
   "execution_count": 15,
   "metadata": {
    "collapsed": true
   },
   "outputs": [],
   "source": [
    "# Count how early masculine words occur in text\n",
    "def extract_job_text_score_count_man(jobopslag):\n",
    "    text = jobopslag\n",
    "    \n",
    "    # Define wordlist for scoring\n",
    "    masculine_coded_words = masculine_words\n",
    "    \n",
    "    # Count length of list prior to each match in words\n",
    "    count_match =  [i for i, word in enumerate(text) if word in masculine_coded_words]\n",
    "    \n",
    "    return(count_match)"
   ]
  },
  {
   "cell_type": "code",
   "execution_count": 16,
   "metadata": {
    "collapsed": true
   },
   "outputs": [],
   "source": [
    "# Count how early feminine words occur in text\n",
    "def extract_job_text_score_count_woman(jobopslag):\n",
    "    text = jobopslag\n",
    "    \n",
    "    # Define wordlist for scoring\n",
    "    feminine_coded_words = feminine_words\n",
    "    \n",
    "    # Count length of list prior to each match in words\n",
    "    count_match =  [i for i, word in enumerate(text) if word in feminine_coded_words]\n",
    "    \n",
    "    return(count_match)"
   ]
  },
  {
   "cell_type": "markdown",
   "metadata": {},
   "source": [
    "## Putting it all together - Extracting and scoring job texts from JobIndex"
   ]
  },
  {
   "cell_type": "markdown",
   "metadata": {},
   "source": [
    "The algorithm is designed to score any text. However, as of now it is only adapted to scrape jobs from JobIndex that follow a certain HTML-design (Candidata-manager-HR). There are many jobs that follow this design, though. \n",
    "\n",
    "* All jobs following the candidate-manager HR HTML-setup: https://www.jobindex.dk/jobsoegning?page=3&q=https%3A%2F%2Fcandidate.hr-manager.net%2F"
   ]
  },
  {
   "cell_type": "code",
   "execution_count": 17,
   "metadata": {
    "collapsed": true
   },
   "outputs": [],
   "source": [
    "# Create main page links to loop over \n",
    "main_page_links = []\n",
    "\n",
    "for i in range(2,43):\n",
    "    page = \"https://www.jobindex.dk/jobsoegning?page=NUMBER&q=https%3A%2F%2Fcandidate.hr-manager.net%2F\" \n",
    "    pages = page.replace(\"NUMBER\", str(i))\n",
    "    main_page_links.append(pages)"
   ]
  },
  {
   "cell_type": "code",
   "execution_count": 18,
   "metadata": {
    "collapsed": true,
    "scrolled": true
   },
   "outputs": [],
   "source": [
    "#Extract main page links - put in main link for jobindex seach here:\n",
    "links = []\n",
    "names = []\n",
    "company = []\n",
    "\n",
    "for i in main_page_links:\n",
    "    links.append(request_main_links(i))\n",
    "    names.append(request_job_names(i))\n",
    "    company.append(request_company_names(i))\n",
    "\n",
    "# Change list of lists to a flat list\n",
    "links = [item for sublist in links for item in sublist]\n",
    "names = [item for sublist in names for item in sublist]\n",
    "company = [item for sublist in company for item in sublist]"
   ]
  },
  {
   "cell_type": "code",
   "execution_count": 19,
   "metadata": {
    "collapsed": true
   },
   "outputs": [],
   "source": [
    "#Loop through links and extract job texts and score them through the algorithm:\n",
    "masculine_score = []\n",
    "feminine_score = []\n",
    "communal_score = []\n",
    "individual_score = []\n",
    "masculine_count = []\n",
    "feminine_count = []\n",
    "job_text = []\n",
    "job_text_length = []\n",
    "\n",
    "# Extract and store job texts\n",
    "for i in links: \n",
    "    job_text.append(extract_job_text(i))\n",
    "    \n",
    "# Get length of job texts\n",
    "for i in job_text:\n",
    "    length = len(i)\n",
    "    job_text_length.append(length)\n",
    "\n",
    "# Score eachjob text for male/female words\n",
    "for i in job_text: \n",
    "    feminine_score.append(extract_job_text_score_woman(i))\n",
    "    masculine_score.append(extract_job_text_score_man(i))\n",
    "    communal_score.append(extract_job_text_score_communal(i))\n",
    "    individual_score.append(extract_job_text_score_individual(i))\n",
    "    masculine_count.append(extract_job_text_score_count_man(i))\n",
    "    feminine_count.append(extract_job_text_score_count_woman(i))"
   ]
  },
  {
   "cell_type": "markdown",
   "metadata": {},
   "source": [
    "## Converting raw data to a dataframe"
   ]
  },
  {
   "cell_type": "code",
   "execution_count": 20,
   "metadata": {
    "collapsed": true
   },
   "outputs": [],
   "source": [
    "# Some data wrangling \n",
    "f_count = []\n",
    "for i in feminine_score:\n",
    "    f_count.append(len(i))\n",
    "    \n",
    "m_count = []\n",
    "for i in masculine_score:\n",
    "    m_count.append(len(i))\n",
    "    \n",
    "m_early = []\n",
    "for i in masculine_count:\n",
    "    m_early.append(np.mean(i))\n",
    "    \n",
    "f_early = []\n",
    "for i in feminine_count:\n",
    "    f_early.append(np.mean(i))"
   ]
  },
  {
   "cell_type": "code",
   "execution_count": null,
   "metadata": {
    "collapsed": true,
    "scrolled": true
   },
   "outputs": [],
   "source": [
    "# Convert to dataframe\n",
    "df = pd.DataFrame({\"name\": names,\n",
    "                   \"link\": links,\n",
    "                   \"job_name\": company, \n",
    "                   \"masculine_words\": masculine_score,\n",
    "                   \"masculine_count\": m_count,\n",
    "                   \"feminine_count\": f_count,\n",
    "                   \"feminine_words\": feminine_score,\n",
    "                   \"communal\": communal_score,\n",
    "                   \"individual\": individual_score,\n",
    "                   \"masculine_early\": masculine_count,\n",
    "                   \"feminine_early\": feminine_count,\n",
    "                   \"average_early_man\": m_early,\n",
    "                   \"average_early_woman\": f_early,\n",
    "                   \"length\": job_text_length},\n",
    "                    columns=[\"name\",\"job_name\", \"masculine_words\", \"feminine_words\", \"masculine_count\",\"feminine_count\", \"communal\", \n",
    "                             \"individual\", \"masculine_early\", \"feminine_early\",\"average_early_man\", \"average_early_woman\", \"length\"])\n",
    "\n",
    "# Clean name column for HTML-leftovers\n",
    "df['name'] = df['name'].astype(str).str.replace(r\"<b>\", '')\n",
    "df['name'] = df['name'].astype(str).str.replace(r\"</b>\", '')"
   ]
  },
  {
   "cell_type": "markdown",
   "metadata": {},
   "source": [
    "# Analysis of results"
   ]
  },
  {
   "cell_type": "markdown",
   "metadata": {},
   "source": [
    "### Divide into sectors"
   ]
  },
  {
   "cell_type": "code",
   "execution_count": 4,
   "metadata": {},
   "outputs": [
    {
     "data": {
      "text/html": [
       "<div>\n",
       "<style scoped>\n",
       "    .dataframe tbody tr th:only-of-type {\n",
       "        vertical-align: middle;\n",
       "    }\n",
       "\n",
       "    .dataframe tbody tr th {\n",
       "        vertical-align: top;\n",
       "    }\n",
       "\n",
       "    .dataframe thead th {\n",
       "        text-align: right;\n",
       "    }\n",
       "</style>\n",
       "<table border=\"1\" class=\"dataframe\">\n",
       "  <thead>\n",
       "    <tr style=\"text-align: right;\">\n",
       "      <th></th>\n",
       "      <th>masculine_count</th>\n",
       "      <th>feminine_count</th>\n",
       "      <th>communal</th>\n",
       "      <th>individual</th>\n",
       "      <th>average_early_man</th>\n",
       "      <th>average_early_woman</th>\n",
       "      <th>length</th>\n",
       "    </tr>\n",
       "    <tr>\n",
       "      <th>sector</th>\n",
       "      <th></th>\n",
       "      <th></th>\n",
       "      <th></th>\n",
       "      <th></th>\n",
       "      <th></th>\n",
       "      <th></th>\n",
       "      <th></th>\n",
       "    </tr>\n",
       "  </thead>\n",
       "  <tbody>\n",
       "    <tr>\n",
       "      <th>Andre</th>\n",
       "      <td>1.391681</td>\n",
       "      <td>2.041594</td>\n",
       "      <td>11.584055</td>\n",
       "      <td>13.473137</td>\n",
       "      <td>255.313440</td>\n",
       "      <td>294.979551</td>\n",
       "      <td>522.764298</td>\n",
       "    </tr>\n",
       "    <tr>\n",
       "      <th>Finans og økonomi</th>\n",
       "      <td>3.250000</td>\n",
       "      <td>2.500000</td>\n",
       "      <td>15.625000</td>\n",
       "      <td>16.250000</td>\n",
       "      <td>284.879630</td>\n",
       "      <td>413.619048</td>\n",
       "      <td>642.875000</td>\n",
       "    </tr>\n",
       "    <tr>\n",
       "      <th>HR</th>\n",
       "      <td>1.764706</td>\n",
       "      <td>1.941176</td>\n",
       "      <td>14.529412</td>\n",
       "      <td>16.823529</td>\n",
       "      <td>361.393056</td>\n",
       "      <td>314.990842</td>\n",
       "      <td>540.941176</td>\n",
       "    </tr>\n",
       "    <tr>\n",
       "      <th>IT</th>\n",
       "      <td>1.628571</td>\n",
       "      <td>1.285714</td>\n",
       "      <td>11.028571</td>\n",
       "      <td>13.457143</td>\n",
       "      <td>297.743333</td>\n",
       "      <td>400.789286</td>\n",
       "      <td>590.771429</td>\n",
       "    </tr>\n",
       "    <tr>\n",
       "      <th>Ledelse</th>\n",
       "      <td>2.157407</td>\n",
       "      <td>2.037037</td>\n",
       "      <td>10.351852</td>\n",
       "      <td>16.777778</td>\n",
       "      <td>260.439937</td>\n",
       "      <td>297.844370</td>\n",
       "      <td>530.027778</td>\n",
       "    </tr>\n",
       "    <tr>\n",
       "      <th>Salg</th>\n",
       "      <td>1.365079</td>\n",
       "      <td>1.365079</td>\n",
       "      <td>22.619048</td>\n",
       "      <td>23.634921</td>\n",
       "      <td>317.719318</td>\n",
       "      <td>169.267974</td>\n",
       "      <td>551.539683</td>\n",
       "    </tr>\n",
       "    <tr>\n",
       "      <th>Service</th>\n",
       "      <td>0.666667</td>\n",
       "      <td>1.916667</td>\n",
       "      <td>11.000000</td>\n",
       "      <td>13.083333</td>\n",
       "      <td>493.300000</td>\n",
       "      <td>309.611111</td>\n",
       "      <td>562.583333</td>\n",
       "    </tr>\n",
       "  </tbody>\n",
       "</table>\n",
       "</div>"
      ],
      "text/plain": [
       "                   masculine_count  feminine_count   communal  individual  \\\n",
       "sector                                                                      \n",
       "Andre                     1.391681        2.041594  11.584055   13.473137   \n",
       "Finans og økonomi         3.250000        2.500000  15.625000   16.250000   \n",
       "HR                        1.764706        1.941176  14.529412   16.823529   \n",
       "IT                        1.628571        1.285714  11.028571   13.457143   \n",
       "Ledelse                   2.157407        2.037037  10.351852   16.777778   \n",
       "Salg                      1.365079        1.365079  22.619048   23.634921   \n",
       "Service                   0.666667        1.916667  11.000000   13.083333   \n",
       "\n",
       "                   average_early_man  average_early_woman      length  \n",
       "sector                                                                 \n",
       "Andre                     255.313440           294.979551  522.764298  \n",
       "Finans og økonomi         284.879630           413.619048  642.875000  \n",
       "HR                        361.393056           314.990842  540.941176  \n",
       "IT                        297.743333           400.789286  590.771429  \n",
       "Ledelse                   260.439937           297.844370  530.027778  \n",
       "Salg                      317.719318           169.267974  551.539683  \n",
       "Service                   493.300000           309.611111  562.583333  "
      ]
     },
     "execution_count": 4,
     "metadata": {},
     "output_type": "execute_result"
    }
   ],
   "source": [
    "sectors = []\n",
    "\n",
    "# A very simple solution to divide into sectors based on job name\n",
    "for i in df[\"name\"]:\n",
    "    i = i.lower()\n",
    "    if \"IT\" in i or \"software\" in i or \"digital\" in i or \"udvikler\" in i or \"developer\" in i:\n",
    "        sectors.append(\"IT\")\n",
    "    elif \"administrativ\" in i:\n",
    "        sectors.append(\"Service\")\n",
    "    elif \"finans\" in i or \"aktuar\" in i: \n",
    "        sectors.append(\"Finans og økonomi\")\n",
    "    elif \"leder\" in i or \"chef\" in i: \n",
    "        sectors.append(\"Ledelse\")\n",
    "    elif \"salg\" in i or \"sælger\" in i: \n",
    "        sectors.append(\"Salg\")\n",
    "    elif \"hr\" in i or \"personale\" in i: \n",
    "        sectors.append(\"HR\")\n",
    "    else:\n",
    "        sectors.append(\"Andre\")\n",
    "\n",
    "# Append sector list to dataframe\n",
    "df_new = df.copy()\n",
    "series = pd.Series(sectors)\n",
    "df_new['sector'] = series.values\n",
    "\n",
    "# Calculate metrics by sector\n",
    "grouped = df_new.groupby([\"sector\"]).mean()\n",
    "grouped"
   ]
  },
  {
   "cell_type": "markdown",
   "metadata": {},
   "source": [
    "### Create visualizations of word counts:"
   ]
  },
  {
   "cell_type": "code",
   "execution_count": 12,
   "metadata": {
    "collapsed": true
   },
   "outputs": [],
   "source": [
    "import plotly.plotly as py\n",
    "import plotly.graph_objs as go\n",
    "\n",
    "# Add traces to bar chart. One for each sector\n",
    "trace1 = go.Bar(\n",
    "    x=[\"Maskuline ord\", \"Feminine ord\"],\n",
    "    y=[grouped[\"masculine_count\"].iloc[0], grouped[\"feminine_count\"].iloc[0]],\n",
    "    name='Andre',\n",
    "      marker=dict(\n",
    "        color='rgb(109,125,178)'),\n",
    "    opacity=1\n",
    ")\n",
    "\n",
    "trace2 = go.Bar(\n",
    "    x=[\"Maskuline ord\", \"Feminine ord\"],\n",
    "    y=[grouped[\"masculine_count\"].iloc[1], grouped[\"feminine_count\"].iloc[1]],\n",
    "    name='Finans og økonomi',\n",
    "      marker=dict(\n",
    "        color='rgb(217,91,87)'),\n",
    "    opacity=1\n",
    ")\n",
    "\n",
    "trace3 = go.Bar(\n",
    "    x=[\"Maskuline ord\", \"Feminine ord\"],\n",
    "    y=[grouped[\"masculine_count\"].iloc[2], grouped[\"feminine_count\"].iloc[2]],\n",
    "    name='HR',\n",
    "      marker=dict(\n",
    "        color='rgb(109,127,64)'),\n",
    "    opacity=1\n",
    ")\n",
    "\n",
    "trace4 = go.Bar(\n",
    "    x=[\"Maskuline ord\", \"Feminine ord\"],\n",
    "    y=[grouped[\"masculine_count\"].iloc[3], grouped[\"feminine_count\"].iloc[3]],\n",
    "    name='IT',\n",
    "      marker=dict(\n",
    "        color='rgb(63, 71, 98)'),\n",
    "    opacity=1\n",
    ")\n",
    "\n",
    "trace5 = go.Bar(\n",
    "    x=[\"Maskuline ord\", \"Feminine ord\"],\n",
    "    y=[grouped[\"masculine_count\"].iloc[4], grouped[\"feminine_count\"].iloc[4]],\n",
    "    name='Ledelse',\n",
    "      marker=dict(\n",
    "        color='rgb(85, 85, 85)'),\n",
    "    opacity=1\n",
    ")\n",
    "\n",
    "data = [trace1, trace2, trace3, trace4, trace5]\n",
    "\n",
    "# Create bar chart\n",
    "layout = go.Layout(\n",
    "    barmode='group',\n",
    "    title='Frekvens af kønnede ord i jobopslag på tværs af sektorer',\n",
    "    font=dict(family='Corbel'),\n",
    "    \n",
    "    yaxis=dict(title='Gennemsnitlig frekvens af ord'),\n",
    "\n",
    "    margin=go.Margin(\n",
    "        l=200,\n",
    "        r=50,\n",
    "        b=80,\n",
    "        t=100,\n",
    "        pad=2),\n",
    ")\n",
    "\n",
    "fig = go.Figure(data=data, layout=layout)\n",
    "v = py.iplot(fig, filename='grouped-bar')"
   ]
  },
  {
   "cell_type": "code",
   "execution_count": 13,
   "metadata": {},
   "outputs": [
    {
     "data": {
      "image/png": "[encoded data removed]",
      "text/plain": [
       "<IPython.core.display.Image object>"
      ]
     },
     "execution_count": 13,
     "metadata": {},
     "output_type": "execute_result"
    }
   ],
   "source": [
    "Image(filename='words1.png')"
   ]
  },
  {
   "cell_type": "markdown",
   "metadata": {},
   "source": [
    "### Create visualizations of word placings:"
   ]
  },
  {
   "cell_type": "code",
   "execution_count": 6,
   "metadata": {
    "collapsed": true
   },
   "outputs": [],
   "source": [
    "import plotly.plotly as py\n",
    "import plotly.graph_objs as go\n",
    "\n",
    "# Add traces to bar chart. One for each sector\n",
    "trace1 = go.Bar(\n",
    "    x=[\"Maskuline ord\", \"Feminine ord\"],\n",
    "    y=[grouped[\"average_early_man\"].iloc[0], grouped[\"average_early_woman\"].iloc[0]],\n",
    "    name='Andre',      \n",
    "    marker=dict(\n",
    "        color='rgb(109,125,178)'),\n",
    "    opacity=1\n",
    ")\n",
    "\n",
    "trace2 = go.Bar(\n",
    "    x=[\"Maskuline ord\", \"Feminine ord\"],\n",
    "    y=[grouped[\"average_early_man\"].iloc[1], grouped[\"average_early_woman\"].iloc[1]],\n",
    "    name='Finans og økonomi',\n",
    "      marker=dict(\n",
    "        color='rgb(217,91,87)'),\n",
    "    opacity=1\n",
    ")\n",
    "\n",
    "trace3 = go.Bar(\n",
    "    x=[\"Maskuline ord\", \"Feminine ord\"],\n",
    "    y=[grouped[\"average_early_man\"].iloc[2], grouped[\"average_early_woman\"].iloc[2]],\n",
    "    name='HR',\n",
    "      marker=dict(\n",
    "        color='rgb(109,127,64)'),\n",
    "    opacity=1\n",
    ")\n",
    "\n",
    "trace4 = go.Bar(\n",
    "    x=[\"Maskuline ord\", \"Feminine ord\"],\n",
    "    y=[grouped[\"average_early_man\"].iloc[3], grouped[\"average_early_woman\"].iloc[3]],\n",
    "    name='IT',\n",
    "      marker=dict(\n",
    "        color='rgb(63, 71, 98)'),\n",
    "    opacity=1\n",
    ")\n",
    "\n",
    "trace5 = go.Bar(\n",
    "    x=[\"Maskuline ord\", \"Feminine ord\"],\n",
    "    y=[grouped[\"average_early_man\"].iloc[4], grouped[\"average_early_woman\"].iloc[4]],\n",
    "    name='Ledelse',\n",
    "      marker=dict(\n",
    "        color='rgb(85, 85, 85)'),\n",
    "    opacity=1\n",
    ")\n",
    "\n",
    "data = [trace1, trace2, trace3, trace4, trace5]\n",
    "\n",
    "# Create bar chart\n",
    "layout = go.Layout(\n",
    "    barmode='group',\n",
    "    title='Placering af kønnede ord i jobopslag på tværs af sektorer',\n",
    "    font=dict(family='Corbel'),\n",
    "    \n",
    "yaxis=dict( title='Gennemsnitlig placering af ord'),\n",
    "    margin=go.Margin(\n",
    "        l=200,\n",
    "        r=50,\n",
    "        b=80,\n",
    "        t=100,\n",
    "        pad=2),\n",
    ")\n",
    "\n",
    "fig = go.Figure(data=data, layout=layout)\n",
    "v = py.iplot(fig, filename='grouped-bar')"
   ]
  },
  {
   "cell_type": "code",
   "execution_count": 9,
   "metadata": {},
   "outputs": [
    {
     "data": {
      "image/png": "[encoded data removed]",
      "text/plain": [
       "<IPython.core.display.Image object>"
      ]
     },
     "execution_count": 9,
     "metadata": {},
     "output_type": "execute_result"
    }
   ],
   "source": [
    "Image(filename='words2.png')"
   ]
  }
 ],
 "metadata": {
  "kernelspec": {
   "display_name": "Python 3",
   "language": "python",
   "name": "python3"
  },
  "language_info": {
   "codemirror_mode": {
    "name": "ipython",
    "version": 3
   },
   "file_extension": ".py",
   "mimetype": "text/x-python",
   "name": "python",
   "nbconvert_exporter": "python",
   "pygments_lexer": "ipython3",
   "version": "3.6.4"
  }
 },
 "nbformat": 4,
 "nbformat_minor": 2
}
